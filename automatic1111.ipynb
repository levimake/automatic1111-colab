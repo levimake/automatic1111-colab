{
  "cells": [
    {
      "cell_type": "markdown",
      "metadata": {
        "id": "view-in-github",
        "colab_type": "text"
      },
      "source": [
        "<a href=\"https://colab.research.google.com/github/levimake/automatic1111-colab/blob/main/automatic1111.ipynb\" target=\"_parent\"><img src=\"https://colab.research.google.com/assets/colab-badge.svg\" alt=\"Open In Colab\"/></a>"
      ]
    },
    {
      "cell_type": "markdown",
      "metadata": {
        "id": "A6OFCYOzNjDX"
      },
      "source": [
        "# [Stable Diffusion WebUI Colab](https://github.com/levimake/automatic1111-colab) by [levimake](https://github.com/levimake/)\n",
        "\n",
        "Forked from [https://github.com/ddPn08/automatic1111-colab/wiki](https://github.com/ddPn08/automatic1111-colab)\n",
        "\n",
        "Wiki -> https://github.com/ddPn08/automatic1111-colab/wiki\n",
        "\n",
        "If you have any questions, please refer to the Wiki link for each step.\n",
        "If you run into any issues, please create an issue [here](https://github.com/levimake/automatic1111-colab/issues/new)."
      ]
    },
    {
      "cell_type": "code",
      "execution_count": null,
      "metadata": {
        "id": "Y4xxtQfuJiWM"
      },
      "outputs": [],
      "source": [
        "! nvidia-smi\n",
        "! nvcc -V\n",
        "! free -h"
      ]
    },
    {
      "cell_type": "markdown",
      "metadata": {
        "id": "TE45Pqn_N81E"
      },
      "source": [
        "## 1 - Setup"
      ]
    },
    {
      "cell_type": "markdown",
      "metadata": {
        "id": "4cXkcQu6OEAu"
      },
      "source": [
        "bold text### 1.1 Clone repository\n",
        "[Wiki / English](https://github.com/ddPn08/automatic1111-colab/wiki/1.-Setup-%7C-EN#11-clone-repository) - [Wiki / 日本語](https://github.com/ddPn08/automatic1111-colab/wiki/1.-Setup-%7C-JP#11-リポジトリのクローン)"
      ]
    },
    {
      "cell_type": "code",
      "execution_count": null,
      "metadata": {
        "cellView": "form",
        "id": "yzdbQDudNZ6j"
      },
      "outputs": [],
      "source": [
        "%cd /content/\n",
        "repository_url = \"https://github.com/AUTOMATIC1111/stable-diffusion-webui\"  # @param {type: \"string\"}\n",
        "webui_branch = \"master\"  # @param {type: \"string\"}\n",
        "\n",
        "! git clone {repository_url}\n",
        "%cd /content/stable-diffusion-webui\n",
        "! git checkout {webui_branch}"
      ]
    },
    {
      "cell_type": "markdown",
      "metadata": {
        "id": "tOHgDng2c0FX"
      },
      "source": [
        "### 1.2 Setup models\n",
        "[Wiki / English](https://github.com/ddPn08/automatic1111-colab/wiki/1.-Setup-%7C-EN#12-setup-models) - [Wiki / 日本語](https://github.com/ddPn08/automatic1111-colab/wiki/1.-Setup-%7C-JP#12-モデルのセットアップ)"
      ]
    },
    {
      "cell_type": "code",
      "execution_count": null,
      "metadata": {
        "id": "Mls4_48XOrTd"
      },
      "outputs": [],
      "source": [
        "# @markdown # Set up the StableDiffusion model.\n",
        "\n",
        "# @markdown **Model Path Variables**\n",
        "%cd /content/\n",
        "\n",
        "models_path = \"/content/models\"  # @param {type:\"string\"}\n",
        "output_path = \"/content/output\"  # @param {type:\"string\"}\n",
        "config_path = \"/content/config\"  # @param {type:\"string\"}\n",
        "extensions_file_path = \"\"\n",
        "\n",
        "# @markdown **Optional | Download the model if it isn't already in the `models_path` folder**\n",
        "download_if_missing = True  # @param {type:\"boolean\"}\n",
        "model_url = \"https://huggingface.co/CompVis/stable-diffusion-v-1-4-original/resolve/main/sd-v1-4.ckpt\"  # @param {type:\"string\"}\n",
        "model_filename = \"\"  # @param {type:\"string\"}\n",
        "auth_token = \"\"  # @param {type:\"string\"}\n",
        "\n",
        "# @markdown **SD 2 Tweaks**\n",
        "use_SD_2 = True # @param {type: \"boolean\"}\n",
        "model_config_url = \"\"\n",
        "\n",
        "# @markdown **Optional | Use Google Drive**\n",
        "mount_google_drive = True  # @param {type:\"boolean\"}\n",
        "force_remount = False\n",
        "\n",
        "import os\n",
        "\n",
        "mount_success = True\n",
        "if mount_google_drive:\n",
        "    from google.colab import drive\n",
        "\n",
        "    try:\n",
        "        drive_path = \"/content/drive\"\n",
        "        drive.mount(drive_path, force_remount=force_remount)\n",
        "        models_path_gdrive = \"/content/drive/MyDrive/AI/models\"  # @param {type:\"string\"}\n",
        "        output_path_gdrive = \"/content/drive/MyDrive/AI/automatic1111/outputs\"  # @param {type:\"string\"}\n",
        "        config_path_gdrive = \"/content/drive/MyDrive/AI/automatic1111/config\"  # @param {type:\"string\"}\n",
        "        extensions_file_path_gdrive = \"/content/drive/MyDrive/AI/automatic1111/extensions.txt\"  # @param {type:\"string\"}\n",
        "\n",
        "        models_path = models_path_gdrive\n",
        "        output_path = output_path_gdrive\n",
        "        config_path = config_path_gdrive\n",
        "        extensions_file_path = extensions_file_path_gdrive\n",
        "    except:\n",
        "        print(\"...error mounting drive or with drive path variables\")\n",
        "        print(\"...reverting to default path variables\")\n",
        "        mount_success = False\n",
        "\n",
        "os.makedirs(models_path, exist_ok=True)\n",
        "os.makedirs(output_path, exist_ok=True)\n",
        "os.makedirs(config_path, exist_ok=True)\n",
        "os.makedirs(f\"{models_path}/embeddings\", exist_ok=True)\n",
        "os.makedirs(f\"{models_path}/VAE\", exist_ok=True)\n",
        "os.makedirs(f\"{models_path}/hypernetworks\", exist_ok=True)\n",
        "\n",
        "! rm -Rf stable-diffusion-webui/embeddings && ln -s {models_path}/embeddings stable-diffusion-webui/embeddings\n",
        "! rm -Rf stable-diffusion-webui/models/VAE && ln -s {models_path}/VAE stable-diffusion-webui/models/VAE\n",
        "! rm -Rf stable-diffusion-webui/models/hypernetworks && ln -s {models_path}/hypernetworks stable-diffusion-webui/models/hypernetworks\n",
        "\n",
        "if os.path.exists(\"stable-diffusion-webui/extensions/stable-diffusion-webui-aesthetic-gradients\"):\n",
        "    os.makedirs(f\"{models_path}/aesthetic_embeddings\", exist_ok=True)\n",
        "    ! rm -Rf stable-diffusion-webui/extensions/stable-diffusion-webui-aesthetic-gradients/aesthetic_embeddings \\\n",
        "        && ln -sf {models_path}/aesthetic_embeddings stable-diffusion-webui/extensions/stable-diffusion-webui-aesthetic-gradients/aesthetic_embeddings\n",
        "\n",
        "if download_if_missing:\n",
        "    if use_SD_2 : \n",
        "      model_url = \"https://huggingface.co/stabilityai/stable-diffusion-2/resolve/main/768-v-ema.ckpt\"\n",
        "      model_config_url = \"https://raw.githubusercontent.com/Stability-AI/stablediffusion/main/configs/stable-diffusion/v2-inference-v.yaml\"\n",
        "    if not model_filename:\n",
        "        model_filename = model_url.split(\"/\")[-1]\n",
        "    if not mount_success:\n",
        "        print(\"Downloading model to \" + models_path + \" due to gdrive mount error\")\n",
        "    elif not model_filename or not os.path.exists(models_path + \"/\" + model_filename):\n",
        "        ! curl -LJ  {model_url} -o {models_path}/{model_filename} {'-H \"Authorization: Bearer ' + auth_token + '\"' if auth_token else \"\"}\n",
        "        ! curl -LJ  {model_config_url} -o {models_path}/{model_filename} {'-H \"Authorization: Bearer ' + auth_token + '\"' if auth_token else \"\"}\n",
        "    else:\n",
        "        print(\"Model already downloaded, moving to next step\")\n",
        "\n",
        "%cd /content/stable-diffusion-webui\n",
        "! curl -LOJ https://github.com/TencentARC/GFPGAN/releases/download/v1.3.0/GFPGANv1.3.pth\n",
        "\n",
        "print(f\"models_path: {models_path}\")\n",
        "print(f\"output_path: {output_path}\")\n",
        "print(f\"config_path: {config_path}\")"
      ]
    },
    {
      "cell_type": "markdown",
      "metadata": {
        "id": "3JkrcrPBza-M"
      },
      "source": [
        "## 2 - Advanced - Launch preferences\n",
        "[Wiki / English](https://github.com/ddPn08/automatic1111-colab/wiki/2.-Launch-preferences-%7C-EN#2-launch-preferences) - [Wiki / 日本語](https://github.com/ddPn08/automatic1111-colab/wiki/2.-Launch-preferences-%7C-JP#2-起動設定)"
      ]
    },
    {
      "cell_type": "code",
      "execution_count": null,
      "metadata": {
        "cellView": "form",
        "id": "goUvyTZ4zd4l"
      },
      "outputs": [],
      "source": [
        "# @markdown ## Extensions\n",
        "load_extensions_from_gdrive = True  # @param {type:\"boolean\"}\n",
        "extensions = \"https://github.com/yfszzx/stable-diffusion-webui-images-browser, https://github.com/DominikDoom/a1111-sd-webui-tagcomplete\"  # @param {type:\"string\"}\n",
        "extensions = list(map(str.strip, extensions.split(',')))\n",
        "\n",
        "if load_extensions_from_gdrive and extensions_file_path:\n",
        "    if os.path.exists(extensions_file_path):\n",
        "        with open(extensions_file_path, mode=\"r\") as f:\n",
        "            for s in f:\n",
        "                url = s.strip()\n",
        "                if url not in extensions:\n",
        "                    extensions.append(url)\n",
        "    with open(extensions_file_path, mode=\"w+\") as f:\n",
        "        f.write(\"\\n\".join(extensions))\n",
        "\n",
        "# @markdown &nbsp;\n",
        "# @markdown ## Command line arguments\n",
        "\n",
        "\n",
        "no_half = False  # @param {type:\"boolean\"}\n",
        "no_half_vae = False # @param {type:\"boolean\"}\n",
        "allow_code = False # @param {type:\"boolean\"}\n",
        "no_progressbar_hiding = False  # @param {type:\"boolean\"}\n",
        "medvram = False  # @param {type:\"boolean\"}\n",
        "lowvram = False  # @param {type:\"boolean\"}\n",
        "deepdanbooru = True # @param {type:\"boolean\"}\n",
        "xformers = True  # @param {type:\"boolean\"}\n",
        "disable_opt_split_attention = False  # @param {type:\"boolean\"}\n",
        "\n",
        "# @markdown &nbsp;\n",
        "custom_arguments = \"\" # @param {type:\"string\"}\n",
        "\n",
        "run_string_with_variables = {\n",
        "    \"--no-half\": f\"{no_half}\",\n",
        "    \"--no-half-vae\": f\"{no_half_vae}\",\n",
        "    \"--allow-code\": f\"{allow_code}\",\n",
        "    \"--no-progressbar-hiding\": f\"{no_progressbar_hiding}\",\n",
        "    \"--medvram\": f\"{medvram}\",\n",
        "    \"--lowvram\": f\"{lowvram}\",\n",
        "    \"--deepdanbooru\": f\"{deepdanbooru}\",\n",
        "    \"--xformers\": f\"{xformers}\",\n",
        "    \"--disable-opt-split-attention\": f\"{disable_opt_split_attention}\",\n",
        "}\n",
        "\n",
        "advanced_options = {k for (k, v) in run_string_with_variables.items() if v == \"True\"}\n",
        "\n",
        "# @markdown &nbsp;\n",
        "# @markdown ## Enable password authentication (Prevent other users from using the WebUI)\n",
        "\n",
        "# @markdown &nbsp;\n",
        "use_gradio_auth = False # @param {type:\"boolean\"}\n",
        "gradio_auth_username = \"username\" # @param {type:\"string\"}\n",
        "gradio_auth_password = \"password\" # @param {type:\"string\"}\n",
        "\n",
        "# @markdown &nbsp;\n",
        "# @markdown # Advanced | Network preferences\n",
        "\n",
        "# @markdown &nbsp;\n",
        "# @markdown ## Optional | Ngrok Tunnel\n",
        "# @markdown Get token from [here](https://dashboard.ngrok.com/get-started/your-authtoken)\n",
        "use_ngrok = False  # @param {type: \"boolean\"}\n",
        "ngrok_auth_token = \"\"  # @param {type: \"string\"}\n",
        "ngrok_region = \"us\"  # @param [\"us\", \"eu\", \"au\", \"ap\", \"sa\", \"jp\", \"in\"]\n",
        "\n",
        "# @markdown &nbsp;\n",
        "# @markdown ## Optional | Tailscale\n",
        "# @markdown Get auth key from [here](https://login.tailscale.com/admin/settings/keys)\n",
        "use_tailscale = False  # @param {type: \"boolean\"}\n",
        "tailscale_auth_key = \"\"  # @param {type: \"string\"}\n",
        "\n",
        "vars = \" \".join(advanced_options)\n",
        "if not use_ngrok:\n",
        "    vars += \" --share\"\n",
        "else:\n",
        "    vars += f\" --ngrok {ngrok_auth_token} --ngrok-region {ngrok_region}\"\n",
        "\n",
        "if use_gradio_auth:\n",
        "    vars += f\" --gradio-auth {gradio_auth_username}:{gradio_auth_password}\"\n",
        "\n",
        "\n",
        "import os\n",
        "\n",
        "os.environ['COMMANDLINE_ARGS'] = f\"\"\"\n",
        "--ckpt-dir {models_path} \\\n",
        "--ui-config-file {config_path}/ui-config.json \\\n",
        "--ui-settings-file {config_path}/config.json \\\n",
        "--styles-file {config_path}/styles.csv \\\n",
        "{vars} \\\n",
        "{custom_arguments}\n",
        "\"\"\"\n"
      ]
    },
    {
      "cell_type": "markdown",
      "metadata": {
        "id": "htQtwGXHTaob"
      },
      "source": [
        "## 3 - Launch WebUI\n",
        "[Wiki / English](https://github.com/ddPn08/automatic1111-colab/wiki/3.-Run-%7C-EN#set-up-the-environment) - [Wiki / 日本語](https://github.com/ddPn08/automatic1111-colab/wiki/3.-Run-%7C-JP)"
      ]
    },
    {
      "cell_type": "code",
      "execution_count": null,
      "metadata": {
        "cellView": "form",
        "id": "Ao2t5h5qG9HD"
      },
      "outputs": [],
      "source": [
        "# @markdown ## Setup environment\n",
        "# @markdown This may take up to 10 minutes\n",
        "\n",
        "store_env_gdrive = False # @param{type:\"boolean\"}\n",
        "gdrive_env_directory = \"/content/drive/MyDrive/AI/automatic1111/conda-env\" # @param{type:\"string\"}\n",
        "force_reinstall_environmemt = False # @param{type:\"boolean\"}\n",
        "gdrive_env_file = f\"{gdrive_env_directory}/env.tar.zst\"\n",
        "\n",
        "%cd /content/stable-diffusion-webui/extensions\n",
        "\n",
        "for extension in extensions:\n",
        "    ! git clone {extension}\n",
        "    extension_name = extension.split(\"/\")[-1]\n",
        "    ! cd {extension_name} && git fetch\n",
        "\n",
        "%cd /content\n",
        "import os\n",
        "import sys\n",
        "\n",
        "! curl -fsSL https://pkgs.tailscale.com/stable/ubuntu/bionic.gpg | sudo apt-key add -\n",
        "! curl -fsSL https://pkgs.tailscale.com/stable/ubuntu/bionic.list | sudo tee /etc/apt/sources.list.d/tailscale.list\n",
        "\n",
        "! apt update\n",
        "! apt upgrade -y\n",
        "! apt install tailscale zstd -y\n",
        "\n",
        "! rm -rf /tmp/tailscaled && mkdir -p /tmp/tailscaled && chown irc.irc /tmp/tailscaled\n",
        "! rm -rf /var/run/tailscale && mkdir -p /var/run/tailscale && chown irc.irc /var/run/tailscale\n",
        "! cp /var/lib/tailscaled/tailscaled.state /tmp/tailscaled/tailscaled.state && chown irc.irc /tmp/tailscaled/tailscaled.state\n",
        "! nohup sudo -u irc tailscaled --tun=userspace-networking --socks5-server=localhost:1055 --state=/tmp/tailscaled/tailscaled.state --socket=/var/run/tailscale/tailscaled.sock --port 41641 &\n",
        "if use_tailscale:\n",
        "    ! until tailscale up --authkey {tailscale_auth_key}; do sleep 1; done\n",
        "\n",
        "if not os.path.exists(\"/usr/local/bin/conda\"):\n",
        "    ! curl -O https://repo.anaconda.com/miniconda/Miniconda3-latest-Linux-x86_64.sh\n",
        "    ! chmod +x Miniconda3-latest-Linux-x86_64.sh\n",
        "    ! bash ./Miniconda3-latest-Linux-x86_64.sh -b -f -p /usr/local\n",
        "    ! rm Miniconda3-latest-Linux-x86_64.sh\n",
        "\n",
        "if os.path.exists(gdrive_env_file) and not os.path.exists(\"/usr/local/envs/automatic\") and not force_reinstall_environmemt:\n",
        "    os.makedirs(\"/usr/local/envs/automatic\", exist_ok=True)\n",
        "    ! zstd -dc {gdrive_env_file} | tar -xf - -C /usr/local/envs/automatic\n",
        "    update_script = \"\"\"#!/bin/bash\n",
        "    eval \"$(conda shell.bash hook)\"\n",
        "    cd stable-diffusion-webui\n",
        "    conda env update -n automatic -f ./environment-wsl2.yaml\n",
        "    conda activate automatic\n",
        "    conda install -y xformers -c xformers/label/dev\n",
        "    python3 -m pip install --upgrade tensorrt\n",
        "    python -c 'from launch import prepare_environment; prepare_environment()'\"\"\"\n",
        "    ! {update_script}\n",
        "elif not os.path.exists(\"/usr/local/envs/automatic\"):\n",
        "    install_script = \"\"\"#!/bin/bash\n",
        "    eval \"$(conda shell.bash hook)\"\n",
        "    cd stable-diffusion-webui\n",
        "    conda env create -f ./environment-wsl2.yaml\n",
        "    conda activate automatic\n",
        "    conda install -y xformers -c xformers/label/dev\n",
        "    python3 -m pip install --upgrade tensorrt\n",
        "    python -c 'from launch import prepare_environment; prepare_environment()'\"\"\"\n",
        "    ! {install_script}\n",
        "\n",
        "os.environ[\"LD_LIBRARY_PATH\"] = f\"{os.environ['LD_LIBRARY_PATH']}:/usr/local/envs/automatic/lib\"\n",
        "\n",
        "if store_env_gdrive and mount_google_drive and mount_success:\n",
        "    import threading\n",
        "    def pack():\n",
        "        os.makedirs(gdrive_env_directory, exist_ok=True)\n",
        "        ! tar -C /usr/local/envs/automatic -cf - . | zstd > /content/tmp.tar.zst\n",
        "        ! mv /content/tmp.tar.zst {gdrive_env_file}\n",
        "        print(\"Finish storing environment.\")\n",
        "    threading.Thread(target=pack).start()\n",
        "    print(\"Started storing the conda environment in a separate thread. This will take approximately 2 minutes.\")"
      ]
    },
    {
      "cell_type": "code",
      "execution_count": null,
      "metadata": {
        "cellView": "form",
        "id": "Y4ebYsPqTrGb"
      },
      "outputs": [],
      "source": [
        "# @markdown # Run script\n",
        "# @markdown keep in mind that this script is set to run for ever.\n",
        "# @markdown > ※注意 このスクリプトは永久に実行されます。\n",
        "\n",
        "# @markdown &nbsp;\n",
        "\n",
        "# @markdown ### Important - click the public URL to launch WebUI in another tab\n",
        "# @markdown > ### 重要 - 公開URLをクリックしてWebUIを起動してください\n",
        "\n",
        "# @markdown ![](https://user-images.githubusercontent.com/71378929/189563599-6df78bcf-133b-41e8-a55d-8ca3783cd933.png)\n",
        "\n",
        "%cd /content/stable-diffusion-webui/\n",
        "! git pull\n",
        "\n",
        "run_script = \"\"\"#!/bin/sh\n",
        "eval \"$(conda shell.bash hook)\"\n",
        "conda activate automatic\n",
        "python launch.py\"\"\"\n",
        "! {run_script}"
      ]
    }
  ],
  "metadata": {
    "accelerator": "GPU",
    "colab": {
      "machine_shape": "hm",
      "provenance": [],
      "include_colab_link": true
    },
    "kernelspec": {
      "display_name": "automatic",
      "language": "python",
      "name": "python3"
    },
    "language_info": {
      "name": "python",
      "version": "3.10.6 | packaged by conda-forge | (main, Oct  7 2022, 20:14:50) [MSC v.1916 64 bit (AMD64)]"
    },
    "vscode": {
      "interpreter": {
        "hash": "27f3fb6862b547830c34fbd0390b87507e21782526fd5ca25cfe7dc4f2b0fdae"
      }
    }
  },
  "nbformat": 4,
  "nbformat_minor": 0
}